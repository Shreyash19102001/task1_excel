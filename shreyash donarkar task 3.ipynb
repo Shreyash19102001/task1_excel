{
 "cells": [
  {
   "cell_type": "markdown",
   "id": "816065d0-36e0-4613-bce7-64445bfe60e5",
   "metadata": {},
   "source": [
    "# Lists"
   ]
  },
  {
   "cell_type": "markdown",
   "id": "2274cd5b-1611-48e5-a660-670127452472",
   "metadata": {},
   "source": [
    "# 1) Append function"
   ]
  },
  {
   "cell_type": "raw",
   "id": "786dba72-dbc7-4947-b81e-0c6790b913c3",
   "metadata": {},
   "source": [
    "Adds an element at the end of the list"
   ]
  },
  {
   "cell_type": "raw",
   "id": "ba02ea80-73e0-4b5b-a0b6-7f18b9422023",
   "metadata": {},
   "source": [
    "https://www.w3schools.com/python/python_ref_list.asp"
   ]
  },
  {
   "cell_type": "code",
   "execution_count": 1,
   "id": "99f0d0c4-ff34-40e4-a1f1-969a7d339006",
   "metadata": {},
   "outputs": [],
   "source": [
    "list1 = [1,2,3,4,\"true\"]"
   ]
  },
  {
   "cell_type": "code",
   "execution_count": 2,
   "id": "39c44008-055f-4e3e-b60d-6674c04561ad",
   "metadata": {},
   "outputs": [],
   "source": [
    "list1.append(8)"
   ]
  },
  {
   "cell_type": "code",
   "execution_count": 3,
   "id": "5d2dd1ad-04eb-4bac-978e-0ac9a9d9ddda",
   "metadata": {},
   "outputs": [
    {
     "data": {
      "text/plain": [
       "[1, 2, 3, 4, 'true', 8]"
      ]
     },
     "execution_count": 3,
     "metadata": {},
     "output_type": "execute_result"
    }
   ],
   "source": [
    "list1"
   ]
  },
  {
   "cell_type": "markdown",
   "id": "65e0753f-737d-45b7-a779-2d3ad1c59b8c",
   "metadata": {},
   "source": [
    "# 2) clear function "
   ]
  },
  {
   "cell_type": "raw",
   "id": "1eccff62-c3f6-4f49-a068-8ea39e0eebd7",
   "metadata": {},
   "source": [
    "Removes all the elements from the list"
   ]
  },
  {
   "cell_type": "raw",
   "id": "e3e090fc-817a-4861-8077-7b5f076fc788",
   "metadata": {},
   "source": [
    "https://www.w3schools.com/python/python_ref_list.asp"
   ]
  },
  {
   "cell_type": "code",
   "execution_count": 4,
   "id": "65a895f4-2883-4549-96dd-cefe2db630f9",
   "metadata": {},
   "outputs": [],
   "source": [
    "list2 = [66, 45 , True , [1,2,3]]"
   ]
  },
  {
   "cell_type": "code",
   "execution_count": 6,
   "id": "dd836bec-90e8-4868-a429-7ba46eed9845",
   "metadata": {},
   "outputs": [],
   "source": [
    "list2.clear()"
   ]
  },
  {
   "cell_type": "code",
   "execution_count": 7,
   "id": "25b68c98-2b10-4a5e-af45-a16923f4a0da",
   "metadata": {},
   "outputs": [
    {
     "data": {
      "text/plain": [
       "[]"
      ]
     },
     "execution_count": 7,
     "metadata": {},
     "output_type": "execute_result"
    }
   ],
   "source": [
    "list2"
   ]
  },
  {
   "cell_type": "markdown",
   "id": "82c07c20-b34b-45e4-9a80-8d7274c74b03",
   "metadata": {},
   "source": [
    "# 3) copy()"
   ]
  },
  {
   "cell_type": "raw",
   "id": "c022ac39-1b6f-4cb9-9f39-e8a7715eacf0",
   "metadata": {},
   "source": [
    "Returns a copy of the list"
   ]
  },
  {
   "cell_type": "raw",
   "id": "3d0cf61e-a085-411c-ad49-b0e7225a98aa",
   "metadata": {},
   "source": [
    "https://www.w3schools.com/python/python_ref_list.asp"
   ]
  },
  {
   "cell_type": "code",
   "execution_count": 8,
   "id": "4d408e02-aa2a-493d-9169-42d6a6ce2373",
   "metadata": {},
   "outputs": [],
   "source": [
    "list3 = [2010 , 2011 , 2012 , 5000 , \"rock\"]"
   ]
  },
  {
   "cell_type": "code",
   "execution_count": 9,
   "id": "8f614ce2-757c-4e15-9879-cb3e62b68677",
   "metadata": {},
   "outputs": [],
   "source": [
    "x = list3.copy()"
   ]
  },
  {
   "cell_type": "code",
   "execution_count": 10,
   "id": "fc9167c6-8ef5-4377-86cf-961438b90e75",
   "metadata": {},
   "outputs": [
    {
     "name": "stdout",
     "output_type": "stream",
     "text": [
      "[2010, 2011, 2012, 5000, 'rock']\n"
     ]
    }
   ],
   "source": [
    "print(x)"
   ]
  },
  {
   "cell_type": "markdown",
   "id": "0b59258a-e6fc-40db-a21e-dd28e54fa308",
   "metadata": {},
   "source": [
    "# 4) Count()"
   ]
  },
  {
   "cell_type": "raw",
   "id": "d3d81f42-f89c-47e4-9fbb-813c0c43d8bb",
   "metadata": {},
   "source": [
    "Returns the number of elements with the specified value"
   ]
  },
  {
   "cell_type": "raw",
   "id": "ffc92911-7d4d-46e6-b72e-eda7efb921fd",
   "metadata": {},
   "source": [
    "https://www.w3schools.com/python/python_ref_list.asp"
   ]
  },
  {
   "cell_type": "code",
   "execution_count": 14,
   "id": "9b1f5fa6-30b4-4ecf-be6e-b7d391f64d30",
   "metadata": {},
   "outputs": [],
   "source": [
    "list4 = [56, 5454, [4,4,5,6,7,7] , \"true\"]"
   ]
  },
  {
   "cell_type": "code",
   "execution_count": 15,
   "id": "96aa89ce-0daf-4f16-a854-c19d32498ea7",
   "metadata": {},
   "outputs": [
    {
     "data": {
      "text/plain": [
       "2"
      ]
     },
     "execution_count": 15,
     "metadata": {},
     "output_type": "execute_result"
    }
   ],
   "source": [
    "list4[2].count(7)"
   ]
  },
  {
   "cell_type": "markdown",
   "id": "455cb23b-ecda-4b3a-a323-d33dfaf2379b",
   "metadata": {},
   "source": [
    "# 5) Extend() "
   ]
  },
  {
   "cell_type": "raw",
   "id": "2dc6914e-e58a-4611-8efb-3361439268c4",
   "metadata": {},
   "source": [
    "Add the elements of a list (or any iterable), to the end of the current list"
   ]
  },
  {
   "cell_type": "raw",
   "id": "2200d1d2-2d80-4524-8a3f-22b8ee862ed5",
   "metadata": {},
   "source": [
    "https://www.w3schools.com/python/python_ref_list.asp"
   ]
  },
  {
   "cell_type": "code",
   "execution_count": 19,
   "id": "bf8c2602-aca6-4168-8fe9-a4462e75fdac",
   "metadata": {},
   "outputs": [],
   "source": [
    "list5_1 = [34,23,3,4,[4,3,2,1] , True , False ]"
   ]
  },
  {
   "cell_type": "code",
   "execution_count": 20,
   "id": "3fd7aa93-980b-4c59-8295-b5f2d2eeaa5d",
   "metadata": {},
   "outputs": [],
   "source": [
    "list5_2 = [\"true\" , 5.4]"
   ]
  },
  {
   "cell_type": "code",
   "execution_count": 21,
   "id": "474a5b04-7248-442c-b346-0c8712d91c21",
   "metadata": {},
   "outputs": [],
   "source": [
    "list5_1.extend(list5_2)"
   ]
  },
  {
   "cell_type": "code",
   "execution_count": 22,
   "id": "9ae8c6dd-882b-441a-a76a-b27d9940b3fd",
   "metadata": {},
   "outputs": [
    {
     "data": {
      "text/plain": [
       "[34, 23, 3, 4, [4, 3, 2, 1], True, False, 'true', 5.4]"
      ]
     },
     "execution_count": 22,
     "metadata": {},
     "output_type": "execute_result"
    }
   ],
   "source": [
    "list5_1"
   ]
  },
  {
   "cell_type": "markdown",
   "id": "f4d5469d-c182-4a30-96f4-c0ba16bc7a6d",
   "metadata": {},
   "source": [
    "# 6) Index()"
   ]
  },
  {
   "cell_type": "raw",
   "id": "e1f05058-cb03-4cab-9cf1-ef65e4f9eef2",
   "metadata": {},
   "source": [
    "Returns the index of the first element with the specified value"
   ]
  },
  {
   "cell_type": "raw",
   "id": "1b4ee973-7776-4253-bb77-ed22d768f0b5",
   "metadata": {},
   "source": [
    "https://www.w3schools.com/python/python_ref_list.asp"
   ]
  },
  {
   "cell_type": "code",
   "execution_count": 24,
   "id": "15b15404-e418-4ce9-87dd-7ebb85ebbd51",
   "metadata": {},
   "outputs": [],
   "source": [
    "list6 = [45, 23 , \"false\" , \"a\"]"
   ]
  },
  {
   "cell_type": "code",
   "execution_count": 25,
   "id": "cf04e71a-3c8a-4e6c-94d1-16ebcebe993a",
   "metadata": {},
   "outputs": [
    {
     "data": {
      "text/plain": [
       "1"
      ]
     },
     "execution_count": 25,
     "metadata": {},
     "output_type": "execute_result"
    }
   ],
   "source": [
    "list6.index(23)"
   ]
  },
  {
   "cell_type": "markdown",
   "id": "65ba9b4b-40a4-48f6-9ec8-98099fd5b265",
   "metadata": {},
   "source": [
    "# 7) Insert()"
   ]
  },
  {
   "cell_type": "raw",
   "id": "9fa19f2a-9a0d-43e2-9285-b46fbdbf2a99",
   "metadata": {},
   "source": [
    "Adds an element at the specified position"
   ]
  },
  {
   "cell_type": "raw",
   "id": "bc1f58d9-46c3-4a53-a4d7-c4b9f60251f5",
   "metadata": {},
   "source": [
    "https://www.w3schools.com/python/python_ref_list.asp"
   ]
  },
  {
   "cell_type": "code",
   "execution_count": 31,
   "id": "c93ba748-9d5a-47a3-916b-a54ed65a1850",
   "metadata": {},
   "outputs": [],
   "source": [
    "list7 = [1,2,3,4,5,6,8]"
   ]
  },
  {
   "cell_type": "code",
   "execution_count": 33,
   "id": "a2031ddb-bc96-4b5c-93e1-e71f9b9c0d05",
   "metadata": {},
   "outputs": [],
   "source": [
    "list7.insert(6,7)"
   ]
  },
  {
   "cell_type": "code",
   "execution_count": 34,
   "id": "0299d9fe-9898-4713-8736-2f3106469368",
   "metadata": {},
   "outputs": [
    {
     "data": {
      "text/plain": [
       "[1, 2, 3, 4, 5, 6, 7, 8]"
      ]
     },
     "execution_count": 34,
     "metadata": {},
     "output_type": "execute_result"
    }
   ],
   "source": [
    "list7"
   ]
  },
  {
   "cell_type": "markdown",
   "id": "ba83342b-00ef-4f92-8f4c-5240dc28eee1",
   "metadata": {},
   "source": [
    "# 8) pop()"
   ]
  },
  {
   "cell_type": "raw",
   "id": "463ec853-bd25-4b76-b349-6b2e9415f90f",
   "metadata": {},
   "source": [
    "Removes the element at the specified position"
   ]
  },
  {
   "cell_type": "raw",
   "id": "4b22eeca-3c67-4002-a247-c26ee8750d54",
   "metadata": {},
   "source": [
    "https://www.w3schools.com/python/python_ref_list.asp"
   ]
  },
  {
   "cell_type": "code",
   "execution_count": 44,
   "id": "22fd71fe-b642-45a2-9c7c-c0281c96cf54",
   "metadata": {},
   "outputs": [],
   "source": [
    "list8 = [4,5,6,7,8,9]"
   ]
  },
  {
   "cell_type": "code",
   "execution_count": 46,
   "id": "e0019ecf-4761-4188-9ecf-9c66659eac45",
   "metadata": {},
   "outputs": [],
   "source": [
    "var = list8.pop(4)"
   ]
  },
  {
   "cell_type": "code",
   "execution_count": 47,
   "id": "fb8128c6-9343-4167-bb80-9c9e5cc8c4e1",
   "metadata": {},
   "outputs": [
    {
     "data": {
      "text/plain": [
       "[4, 5, 6, 7, 9]"
      ]
     },
     "execution_count": 47,
     "metadata": {},
     "output_type": "execute_result"
    }
   ],
   "source": [
    "list8"
   ]
  },
  {
   "cell_type": "code",
   "execution_count": 48,
   "id": "59f9593a-953e-4e75-8925-dc62f9c551a9",
   "metadata": {},
   "outputs": [
    {
     "data": {
      "text/plain": [
       "8"
      ]
     },
     "execution_count": 48,
     "metadata": {},
     "output_type": "execute_result"
    }
   ],
   "source": [
    "var"
   ]
  },
  {
   "cell_type": "markdown",
   "id": "11eefe5d-4270-43ab-bb8c-a083c3bea93c",
   "metadata": {},
   "source": [
    " # 9) remove()"
   ]
  },
  {
   "cell_type": "raw",
   "id": "9d083c25-ea8c-4972-a1a3-24f2f1932270",
   "metadata": {},
   "source": [
    "Removes the first item with the specified value"
   ]
  },
  {
   "cell_type": "raw",
   "id": "d065fa70-75d9-4355-b8b5-08380193abf8",
   "metadata": {},
   "source": [
    "https://www.w3schools.com/python/python_ref_list.asp"
   ]
  },
  {
   "cell_type": "code",
   "execution_count": 49,
   "id": "01accc3b-a543-4ac2-a462-5ca00e5ebfe7",
   "metadata": {},
   "outputs": [],
   "source": [
    "list9 = [4,45,66,77, [\"true\" , \"false\"] , True , False]"
   ]
  },
  {
   "cell_type": "code",
   "execution_count": 51,
   "id": "f9044805-b8c4-4d06-a617-56d6f3913ff6",
   "metadata": {},
   "outputs": [],
   "source": [
    "list9.remove(4)"
   ]
  },
  {
   "cell_type": "code",
   "execution_count": 52,
   "id": "ad8d1d37-1b2f-489a-8fc8-466410cf64f4",
   "metadata": {},
   "outputs": [
    {
     "data": {
      "text/plain": [
       "[45, 66, 77, ['true', 'false'], True, False]"
      ]
     },
     "execution_count": 52,
     "metadata": {},
     "output_type": "execute_result"
    }
   ],
   "source": [
    "list9"
   ]
  },
  {
   "cell_type": "markdown",
   "id": "121ce66c-7cd4-4503-a3ee-b6b163d51c92",
   "metadata": {},
   "source": [
    "# 10) reverse()"
   ]
  },
  {
   "cell_type": "raw",
   "id": "64d04b30-2fa5-404e-859a-ae936016abdb",
   "metadata": {},
   "source": [
    "Reverses the order of the list"
   ]
  },
  {
   "cell_type": "raw",
   "id": "bba9c68f-6fe9-45ff-adc1-c59c2ff05c4b",
   "metadata": {},
   "source": [
    "https://www.w3schools.com/python/python_ref_list.asp"
   ]
  },
  {
   "cell_type": "code",
   "execution_count": 53,
   "id": "3cc3716c-9932-4593-bfc8-dfa719fcc923",
   "metadata": {},
   "outputs": [],
   "source": [
    "list10 = [1,2,3,4,5,6,7,8,9]"
   ]
  },
  {
   "cell_type": "code",
   "execution_count": 54,
   "id": "70d1148f-e42b-4569-b248-4d5dbee6927c",
   "metadata": {},
   "outputs": [],
   "source": [
    "list10.reverse()"
   ]
  },
  {
   "cell_type": "code",
   "execution_count": 56,
   "id": "1f0e09b5-5627-44ce-8c29-ea726604d78f",
   "metadata": {},
   "outputs": [
    {
     "data": {
      "text/plain": [
       "[9, 8, 7, 6, 5, 4, 3, 2, 1]"
      ]
     },
     "execution_count": 56,
     "metadata": {},
     "output_type": "execute_result"
    }
   ],
   "source": [
    "list10"
   ]
  },
  {
   "cell_type": "markdown",
   "id": "cfd3c6c9-1b0d-44c6-938f-cdb504f6fe00",
   "metadata": {},
   "source": [
    "# 11) sort()"
   ]
  },
  {
   "cell_type": "raw",
   "id": "d1b8c835-5915-4195-afe4-9ba33625f1a5",
   "metadata": {},
   "source": [
    "Sorts the list"
   ]
  },
  {
   "cell_type": "raw",
   "id": "0a3fbd40-34fb-48db-9cac-53a02d90e4ff",
   "metadata": {},
   "source": [
    "https://www.w3schools.com/python/python_ref_list.asp"
   ]
  },
  {
   "cell_type": "code",
   "execution_count": 60,
   "id": "74841e1b-7e2f-432c-b972-9de8091acc6c",
   "metadata": {},
   "outputs": [],
   "source": [
    "list11 = [\"hllo\" , \"world\" , \"python\" , \"language\"]"
   ]
  },
  {
   "cell_type": "code",
   "execution_count": 61,
   "id": "d82005ba-b6f8-4d89-ab0d-7f90dd843306",
   "metadata": {},
   "outputs": [],
   "source": [
    "list11.sort()"
   ]
  },
  {
   "cell_type": "code",
   "execution_count": 62,
   "id": "09db82fe-480b-42c1-9123-e6fbf9f1dc9a",
   "metadata": {},
   "outputs": [
    {
     "data": {
      "text/plain": [
       "['hllo', 'language', 'python', 'world']"
      ]
     },
     "execution_count": 62,
     "metadata": {},
     "output_type": "execute_result"
    }
   ],
   "source": [
    "list11"
   ]
  },
  {
   "cell_type": "markdown",
   "id": "18144398-1e35-404d-b640-078a5e93efef",
   "metadata": {},
   "source": [
    "# 12) Length function"
   ]
  },
  {
   "cell_type": "raw",
   "id": "cd070247-7637-41a5-b115-fed5db45efc8",
   "metadata": {},
   "source": [
    "To get or determine the length of the list"
   ]
  },
  {
   "cell_type": "raw",
   "id": "1d6bacc0-1a59-4fa2-a510-d6c904ccf703",
   "metadata": {},
   "source": [
    "https://www.w3schools.com/python/python_ref_list.asp"
   ]
  },
  {
   "cell_type": "code",
   "execution_count": 65,
   "id": "4a2c0186-3e92-40db-b907-5ddd65bf83e0",
   "metadata": {},
   "outputs": [],
   "source": [
    "list12 = [True , 23 , False , 4.4 , [4.4 , 6.6 , 7.7] , (45,44,33) , \"Python\"]"
   ]
  },
  {
   "cell_type": "code",
   "execution_count": 67,
   "id": "ed3714fe-d483-4bbc-8f98-86c21839606f",
   "metadata": {},
   "outputs": [
    {
     "data": {
      "text/plain": [
       "7"
      ]
     },
     "execution_count": 67,
     "metadata": {},
     "output_type": "execute_result"
    }
   ],
   "source": [
    "len(list12)"
   ]
  },
  {
   "cell_type": "markdown",
   "id": "388c50ad-f7d1-41d0-9c5d-3150546a78e1",
   "metadata": {},
   "source": [
    "# 13) Max()"
   ]
  },
  {
   "cell_type": "raw",
   "id": "b7d916da-d64b-4aa5-b4da-9b13d410976f",
   "metadata": {},
   "source": [
    "function returns the highest item in a sequence."
   ]
  },
  {
   "cell_type": "raw",
   "id": "11676f18-8aeb-430f-8069-6f1c305331b4",
   "metadata": {},
   "source": [
    "https://www.w3schools.com/python/python_ref_list.asp"
   ]
  },
  {
   "cell_type": "code",
   "execution_count": 68,
   "id": "b94b2554-502b-4efb-94ce-bf062db06aa2",
   "metadata": {},
   "outputs": [],
   "source": [
    "list13 = [45 , 55 ,66 ,77 , 88]"
   ]
  },
  {
   "cell_type": "code",
   "execution_count": 69,
   "id": "77c1b3a1-30ba-4f53-9066-b6ce29e6d0ec",
   "metadata": {},
   "outputs": [
    {
     "data": {
      "text/plain": [
       "88"
      ]
     },
     "execution_count": 69,
     "metadata": {},
     "output_type": "execute_result"
    }
   ],
   "source": [
    "max(list13)"
   ]
  },
  {
   "cell_type": "markdown",
   "id": "a8688145-ceae-4788-a2b7-9153d76c71e8",
   "metadata": {},
   "source": [
    "# 14) Min()"
   ]
  },
  {
   "cell_type": "code",
   "execution_count": null,
   "id": "9ba13907-cf70-404a-ac46-2961990b3a8b",
   "metadata": {},
   "outputs": [],
   "source": [
    "funtion returns the lowest item in a sequence."
   ]
  },
  {
   "cell_type": "raw",
   "id": "f49cdca8-6044-4037-806f-c9031401d039",
   "metadata": {},
   "source": [
    "https://www.w3schools.com/python/python_ref_list.asp"
   ]
  },
  {
   "cell_type": "code",
   "execution_count": 70,
   "id": "315e13d0-5748-499c-bd72-2e706fe7608e",
   "metadata": {},
   "outputs": [],
   "source": [
    "list14 = [1,2,3,4,5,6,7,8,9]"
   ]
  },
  {
   "cell_type": "code",
   "execution_count": 71,
   "id": "f0e45dcf-49e0-49f8-adf8-6e4f571dd76f",
   "metadata": {},
   "outputs": [
    {
     "data": {
      "text/plain": [
       "1"
      ]
     },
     "execution_count": 71,
     "metadata": {},
     "output_type": "execute_result"
    }
   ],
   "source": [
    "min(list14)"
   ]
  },
  {
   "cell_type": "markdown",
   "id": "a1c916c7-8700-4d7e-9bb5-06923e8e273c",
   "metadata": {},
   "source": [
    "# 15) Sum()"
   ]
  },
  {
   "cell_type": "raw",
   "id": "1b8b336a-6072-4aa0-8b69-363a16b5acce",
   "metadata": {},
   "source": [
    " method sums all elements in an iterable and returns the result"
   ]
  },
  {
   "cell_type": "raw",
   "id": "28cc2120-31f1-4c53-9759-67f51171377d",
   "metadata": {},
   "source": [
    "https://www.w3schools.com/python/python_ref_list.asp"
   ]
  },
  {
   "cell_type": "code",
   "execution_count": 73,
   "id": "81538fff-4918-4beb-9abd-429c62eeee1d",
   "metadata": {},
   "outputs": [],
   "source": [
    "list15 = [12,14,14,56,77,78]"
   ]
  },
  {
   "cell_type": "code",
   "execution_count": 74,
   "id": "389dd570-f962-434f-adea-e4fa6d965901",
   "metadata": {},
   "outputs": [
    {
     "data": {
      "text/plain": [
       "251"
      ]
     },
     "execution_count": 74,
     "metadata": {},
     "output_type": "execute_result"
    }
   ],
   "source": [
    "sum(list15)"
   ]
  },
  {
   "cell_type": "code",
   "execution_count": 75,
   "id": "2ae28d98-a86c-4ef5-be4e-33c3364580e3",
   "metadata": {},
   "outputs": [],
   "source": [
    "list16 = [454,88.99,7.8,\"true\" , True , {\"key\" : 45}]"
   ]
  },
  {
   "cell_type": "code",
   "execution_count": 76,
   "id": "b4eedeab-8083-4fd7-acb7-44a9e03238b9",
   "metadata": {},
   "outputs": [
    {
     "data": {
      "text/plain": [
       "[454, 88.99, 7.8, 'true', True, {'key': 45}]"
      ]
     },
     "execution_count": 76,
     "metadata": {},
     "output_type": "execute_result"
    }
   ],
   "source": [
    "list16"
   ]
  },
  {
   "cell_type": "code",
   "execution_count": 77,
   "id": "25328e11-3b65-43bd-ac60-3b5137e188e1",
   "metadata": {},
   "outputs": [],
   "source": [
    "list17 = [98, (66 , \"new\" , {\"hello\" : 99})]"
   ]
  },
  {
   "cell_type": "code",
   "execution_count": 78,
   "id": "6060f8fa-f334-43cf-bd59-7fc31a788cda",
   "metadata": {},
   "outputs": [],
   "source": [
    "list18 = [77 , 56, 99 , \"yes\"]"
   ]
  },
  {
   "cell_type": "code",
   "execution_count": 79,
   "id": "785e1e64-14a8-4c10-a637-7ffbf8f7cece",
   "metadata": {},
   "outputs": [],
   "source": [
    "list19 = [99,\"false\",False, \"use\"]"
   ]
  },
  {
   "cell_type": "code",
   "execution_count": 80,
   "id": "9d6a4db2-c954-4b03-bbfc-80b7e45f89e6",
   "metadata": {},
   "outputs": [],
   "source": [
    "list20 = [90 , 56 , \"tommorow\" , \"true\" , False , [\"5\" , 7.8] , (99, False)] "
   ]
  },
  {
   "cell_type": "markdown",
   "id": "378e32e1-b95f-4392-a0a8-48ad9b820c80",
   "metadata": {},
   "source": [
    "# Tuples "
   ]
  },
  {
   "cell_type": "code",
   "execution_count": 84,
   "id": "db46bc24-670f-4fa8-9b45-f33f70d37e9c",
   "metadata": {},
   "outputs": [],
   "source": [
    "Tupple1 = (1,2,3,4,5,6,7,\"yws\" , True)"
   ]
  },
  {
   "cell_type": "code",
   "execution_count": 86,
   "id": "64025933-c064-4ed5-810d-fddb23d436d3",
   "metadata": {},
   "outputs": [
    {
     "data": {
      "text/plain": [
       "(1, 2, 3, 4, 5, 6, 7, 'yws', True)"
      ]
     },
     "execution_count": 86,
     "metadata": {},
     "output_type": "execute_result"
    }
   ],
   "source": [
    "Tupple1 "
   ]
  },
  {
   "cell_type": "code",
   "execution_count": 85,
   "id": "7b2837ef-105b-476b-b261-e590ce24a0ee",
   "metadata": {},
   "outputs": [],
   "source": [
    "Tupple2 = ([45,4,\"no\"] , \"jkl\" , False)"
   ]
  },
  {
   "cell_type": "code",
   "execution_count": 87,
   "id": "86b1368b-c795-429d-b3ff-e82647badd04",
   "metadata": {},
   "outputs": [
    {
     "data": {
      "text/plain": [
       "([45, 4, 'no'], 'jkl', False)"
      ]
     },
     "execution_count": 87,
     "metadata": {},
     "output_type": "execute_result"
    }
   ],
   "source": [
    "Tupple2"
   ]
  },
  {
   "cell_type": "code",
   "execution_count": 83,
   "id": "cb221ee5-04ec-431e-970d-8b1a4ff4014c",
   "metadata": {},
   "outputs": [],
   "source": [
    "Tupple3 = ({\"key\" : \"value\"} , 45 , 7.8  )"
   ]
  },
  {
   "cell_type": "code",
   "execution_count": 88,
   "id": "4e0f0606-e0a9-41fc-b991-df1e17b5325d",
   "metadata": {},
   "outputs": [
    {
     "data": {
      "text/plain": [
       "({'key': 'value'}, 45, 7.8)"
      ]
     },
     "execution_count": 88,
     "metadata": {},
     "output_type": "execute_result"
    }
   ],
   "source": [
    "Tupple3"
   ]
  },
  {
   "cell_type": "code",
   "execution_count": 89,
   "id": "61403bfe-d92a-4276-89ad-caac090246a2",
   "metadata": {},
   "outputs": [],
   "source": [
    "Tupple4 = (5,8,9,9,0,[7, 8 , 9])"
   ]
  },
  {
   "cell_type": "code",
   "execution_count": 90,
   "id": "68a195fc-9e85-4f15-97a7-6a6ec3629008",
   "metadata": {},
   "outputs": [
    {
     "data": {
      "text/plain": [
       "(5, 8, 9, 9, 0, [7, 8, 9])"
      ]
     },
     "execution_count": 90,
     "metadata": {},
     "output_type": "execute_result"
    }
   ],
   "source": [
    "Tupple4"
   ]
  },
  {
   "cell_type": "code",
   "execution_count": 92,
   "id": "4694b615-551f-411d-8202-fc90a468066f",
   "metadata": {},
   "outputs": [],
   "source": [
    "Tupple5 = (65 ,99 , \"yee\" , True, [556,77,9])"
   ]
  },
  {
   "cell_type": "code",
   "execution_count": 93,
   "id": "d4f08df9-750c-40a6-97ba-19ae7c25a8bb",
   "metadata": {},
   "outputs": [
    {
     "data": {
      "text/plain": [
       "(65, 99, 'yee', True, [556, 77, 9])"
      ]
     },
     "execution_count": 93,
     "metadata": {},
     "output_type": "execute_result"
    }
   ],
   "source": [
    "Tupple5"
   ]
  },
  {
   "cell_type": "code",
   "execution_count": 95,
   "id": "004f998f-cbcc-4fec-9e58-79da812fe90d",
   "metadata": {},
   "outputs": [],
   "source": [
    "Tupple6 = (99 , \"washington\" , False , {\"key22\" : \"value11\"})"
   ]
  },
  {
   "cell_type": "code",
   "execution_count": 96,
   "id": "a5ac6e01-81de-4e4d-8227-4533704526b1",
   "metadata": {},
   "outputs": [
    {
     "data": {
      "text/plain": [
       "(99, 'washington', False, {'key22': 'value11'})"
      ]
     },
     "execution_count": 96,
     "metadata": {},
     "output_type": "execute_result"
    }
   ],
   "source": [
    "Tupple6"
   ]
  },
  {
   "cell_type": "code",
   "execution_count": 102,
   "id": "cbb59752-2fcf-4370-b7f9-d0a0092ba108",
   "metadata": {},
   "outputs": [],
   "source": [
    "Tupple7 = (77898 , 90 , [786 , 9800 ] , {78778 : 879 })"
   ]
  },
  {
   "cell_type": "code",
   "execution_count": 103,
   "id": "60f90ab3-7342-4ee7-8edc-c1a97cf497ce",
   "metadata": {},
   "outputs": [
    {
     "data": {
      "text/plain": [
       "(77898, 90, [786, 9800], {78778: 879})"
      ]
     },
     "execution_count": 103,
     "metadata": {},
     "output_type": "execute_result"
    }
   ],
   "source": [
    "Tupple7"
   ]
  },
  {
   "cell_type": "code",
   "execution_count": 101,
   "id": "2ffb7095-b047-479f-bff2-655568cd6040",
   "metadata": {},
   "outputs": [],
   "source": [
    "Tupple8 = (90 , \"78\" , 87.45 , True )"
   ]
  },
  {
   "cell_type": "code",
   "execution_count": 104,
   "id": "6ea5c211-8163-4b3b-9b2d-4e8696ce8f99",
   "metadata": {},
   "outputs": [
    {
     "data": {
      "text/plain": [
       "(90, '78', 87.45, True)"
      ]
     },
     "execution_count": 104,
     "metadata": {},
     "output_type": "execute_result"
    }
   ],
   "source": [
    "Tupple8"
   ]
  },
  {
   "cell_type": "code",
   "execution_count": null,
   "id": "ed72489f-d8fe-4739-b0c8-c74efefb8faa",
   "metadata": {},
   "outputs": [],
   "source": []
  }
 ],
 "metadata": {
  "kernelspec": {
   "display_name": "Python 3 (ipykernel)",
   "language": "python",
   "name": "python3"
  },
  "language_info": {
   "codemirror_mode": {
    "name": "ipython",
    "version": 3
   },
   "file_extension": ".py",
   "mimetype": "text/x-python",
   "name": "python",
   "nbconvert_exporter": "python",
   "pygments_lexer": "ipython3",
   "version": "3.12.4"
  }
 },
 "nbformat": 4,
 "nbformat_minor": 5
}
