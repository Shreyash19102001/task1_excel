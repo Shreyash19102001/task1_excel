{
 "cells": [
  {
   "cell_type": "markdown",
   "id": "ae2deb17-a92a-49ff-87ea-750cf377380f",
   "metadata": {},
   "source": [
    " # List Of Method\n"
   ]
  },
  {
   "cell_type": "markdown",
   "id": "bfcda880-08dc-4bae-817d-f5d75cac36c7",
   "metadata": {},
   "source": [
    " \n"
   ]
  },
  {
   "cell_type": "markdown",
   "id": "f1b1b0e3-a2d7-4cb8-838a-952c7819d40a",
   "metadata": {},
   "source": [
    "# 1.List clear() method removes all items from the List making it an empty or null list."
   ]
  },
  {
   "cell_type": "code",
   "execution_count": null,
   "id": "cc869732-f913-4ac5-ac04-e9e8c7aa9983",
   "metadata": {},
   "outputs": [],
   "source": []
  },
  {
   "cell_type": "code",
   "execution_count": 1,
   "id": "0cd0554a-45af-4b51-83b0-6b1633d84981",
   "metadata": {},
   "outputs": [
    {
     "name": "stdout",
     "output_type": "stream",
     "text": [
      "[]\n"
     ]
    }
   ],
   "source": [
    "lis = [2, 3, 4]\n",
    "lis.clear()\n",
    "print(lis)"
   ]
  },
  {
   "cell_type": "markdown",
   "id": "14925cfe-3d5c-47fa-9df6-1f7a776c9d7e",
   "metadata": {},
   "source": [
    "# 2. List count() method returns the count of the occurrences of a given element in a list."
   ]
  },
  {
   "cell_type": "code",
   "execution_count": 7,
   "id": "50c20ec8-26f9-4a7e-93cc-03126c8983c0",
   "metadata": {},
   "outputs": [
    {
     "name": "stdout",
     "output_type": "stream",
     "text": [
      "1\n"
     ]
    }
   ],
   "source": [
    "# create a list\n",
    "Softtoys = [\"TeddyBear\", \"Monkey\", \"Horse\", \"Bunny\" ]\n",
    "# printing count using count() function\n",
    "print(Softtoys.count(\"Monkey\"))"
   ]
  },
  {
   "cell_type": "markdown",
   "id": "8270b8f5-13b2-4c3b-b6fd-858b00d0c5d7",
   "metadata": {},
   "source": [
    "# 3.append()\n",
    "\n",
    "Description: Adds an element to the end of the list.\n"
   ]
  },
  {
   "cell_type": "code",
   "execution_count": 9,
   "id": "c4912b48-4930-4d80-812f-4157b35ffa62",
   "metadata": {},
   "outputs": [
    {
     "name": "stdout",
     "output_type": "stream",
     "text": [
      "[1, 2, 3, 4]\n"
     ]
    }
   ],
   "source": [
    "my_list = [1, 2, 3]\n",
    "my_list.append(4)\n",
    "print(my_list)  # Output: [1, 2, 3, 4]\n"
   ]
  },
  {
   "cell_type": "markdown",
   "id": "0ba411b1-3c2a-4574-b93d-8d349ddfdb65",
   "metadata": {},
   "source": [
    "# 4. extend()\n",
    "Description: Extends the list by appending all elements from another list.\n",
    "Example"
   ]
  },
  {
   "cell_type": "code",
   "execution_count": 11,
   "id": "c23400c7-4c64-4feb-928f-0afae9888246",
   "metadata": {},
   "outputs": [
    {
     "name": "stdout",
     "output_type": "stream",
     "text": [
      "[1, 2, 3, 4, 5, 6]\n"
     ]
    }
   ],
   "source": [
    "my_list = [1, 2, 3]\n",
    "my_list.extend([4, 5, 6])\n",
    "print(my_list)  # Output: [1, 2, 3, 4, 5, 6]\n"
   ]
  },
  {
   "cell_type": "markdown",
   "id": "d8e0cba5-6378-4938-be88-3ead56503d77",
   "metadata": {},
   "source": [
    "# 5.insert()\n",
    "Description: Inserts an element at a specified position.\n"
   ]
  },
  {
   "cell_type": "code",
   "execution_count": 13,
   "id": "f6fa5329-82aa-4f66-a23c-66722b28ef10",
   "metadata": {},
   "outputs": [
    {
     "name": "stdout",
     "output_type": "stream",
     "text": [
      "[1, 2, 3, 4]\n"
     ]
    }
   ],
   "source": [
    "my_list = [1, 2, 4]\n",
    "my_list.insert(2, 3)\n",
    "print(my_list)  # Output: [1, 2, 3, 4]\n"
   ]
  },
  {
   "cell_type": "markdown",
   "id": "6fd0b119-6b93-4b4f-a190-ab840c640cd6",
   "metadata": {},
   "source": [
    "# 6. remove()\n",
    "Description: Removes the first occurrence of an element from the list.\n"
   ]
  },
  {
   "cell_type": "code",
   "execution_count": 16,
   "id": "02966da5-26be-4fc4-81e3-0a8e878a119b",
   "metadata": {},
   "outputs": [
    {
     "name": "stdout",
     "output_type": "stream",
     "text": [
      "[1, 3, 2, 4]\n"
     ]
    }
   ],
   "source": [
    "my_list = [1, 2, 3, 2, 4]\n",
    "my_list.remove(2)\n",
    "print(my_list) "
   ]
  },
  {
   "cell_type": "markdown",
   "id": "df4f1145-051d-4f38-8ff0-7f68f346e29e",
   "metadata": {},
   "source": [
    "# 7. pop()\n",
    "Description: Removes and returns the element at the specified position. If no index is specified, it removes the last element.\n"
   ]
  },
  {
   "cell_type": "code",
   "execution_count": 18,
   "id": "ec49c550-d3ea-4c30-94ed-f06e93d73f3e",
   "metadata": {},
   "outputs": [
    {
     "name": "stdout",
     "output_type": "stream",
     "text": [
      "3\n",
      "[1, 2, 4]\n"
     ]
    }
   ],
   "source": [
    "my_list = [1, 2, 3, 4]\n",
    "popped_element = my_list.pop(2)\n",
    "print(popped_element)  \n",
    "print(my_list)    \n"
   ]
  },
  {
   "cell_type": "markdown",
   "id": "e168fcc9-dcff-413d-80a6-e2cd8821df32",
   "metadata": {},
   "source": [
    "# 8. clear()\n",
    "Description: Removes all elements from the list.\n"
   ]
  },
  {
   "cell_type": "code",
   "execution_count": 20,
   "id": "19a0825a-de48-4e3e-ae8b-8634759d9b59",
   "metadata": {},
   "outputs": [
    {
     "name": "stdout",
     "output_type": "stream",
     "text": [
      "[]\n"
     ]
    }
   ],
   "source": [
    "my_list = [1, 2, 3, 4]\n",
    "my_list.clear()\n",
    "print(my_list) \n"
   ]
  },
  {
   "cell_type": "markdown",
   "id": "7b0ca64b-92a8-4f50-8199-c74a5654a87d",
   "metadata": {},
   "source": [
    "# 9.index()\n",
    "Description: Returns the index of the first occurrence of an element in the list.\n"
   ]
  },
  {
   "cell_type": "code",
   "execution_count": 22,
   "id": "e44c0741-048c-4e3b-83d6-35b9a7db8b69",
   "metadata": {},
   "outputs": [
    {
     "name": "stdout",
     "output_type": "stream",
     "text": [
      "1\n"
     ]
    }
   ],
   "source": [
    "my_list = [1, 2, 3, 2, 4]\n",
    "index_of_2 = my_list.index(2)\n",
    "print(index_of_2) \n"
   ]
  },
  {
   "cell_type": "markdown",
   "id": "2875608e-82a5-4dd9-81e4-b1652d8acec0",
   "metadata": {},
   "source": [
    "# 10.sort()\n",
    "Description: Sorts the list in ascending order. Optionally, it can take a reverse=True argument to sort in descending order."
   ]
  },
  {
   "cell_type": "code",
   "execution_count": 24,
   "id": "fb063bd3-b2d8-4335-909e-1f5621fc6503",
   "metadata": {},
   "outputs": [
    {
     "name": "stdout",
     "output_type": "stream",
     "text": [
      "[1, 2, 3, 4]\n",
      "[4, 3, 2, 1]\n"
     ]
    }
   ],
   "source": [
    "my_list = [4, 2, 1, 3]\n",
    "my_list.sort()\n",
    "print(my_list) \n",
    "\n",
    "my_list.sort(reverse=True)\n",
    "print(my_list) \n"
   ]
  },
  {
   "cell_type": "markdown",
   "id": "25644561-18fe-4228-b425-bef7adaa2fe4",
   "metadata": {},
   "source": [
    "# 11.reverse()\n",
    "Description: Reverses the order of elements in the list.\n"
   ]
  },
  {
   "cell_type": "code",
   "execution_count": 26,
   "id": "478cb80a-0554-425e-bfc3-57887832d821",
   "metadata": {},
   "outputs": [
    {
     "name": "stdout",
     "output_type": "stream",
     "text": [
      "[4, 3, 2, 1]\n"
     ]
    }
   ],
   "source": [
    "my_list = [1, 2, 3, 4]\n",
    "my_list.reverse()\n",
    "print(my_list) \n"
   ]
  },
  {
   "cell_type": "markdown",
   "id": "910a3387-284b-426d-bc79-e3fa22d340b4",
   "metadata": {},
   "source": [
    "# 12.copy()\n",
    "Description: Returns a shallow copy of the list.\n"
   ]
  },
  {
   "cell_type": "code",
   "execution_count": 28,
   "id": "805caf72-daba-40fe-9ed7-d6cb7c7cbe42",
   "metadata": {},
   "outputs": [
    {
     "name": "stdout",
     "output_type": "stream",
     "text": [
      "[1, 2, 3]\n"
     ]
    }
   ],
   "source": [
    "my_list = [1, 2, 3]\n",
    "new_list = my_list.copy()\n",
    "print(new_list)  \n"
   ]
  },
  {
   "cell_type": "markdown",
   "id": "2165ed91-06e3-4f6d-acc7-0c260f0075c0",
   "metadata": {},
   "source": [
    "# 13.len()\n",
    "Description: Returns the number of elements in the list.\n"
   ]
  },
  {
   "cell_type": "code",
   "execution_count": 33,
   "id": "58b7b144-2e6c-4d4c-9e5e-cb1d0306ba9c",
   "metadata": {},
   "outputs": [
    {
     "name": "stdout",
     "output_type": "stream",
     "text": [
      "4\n"
     ]
    }
   ],
   "source": [
    "my_list = [1, 2, 3, 4]\n",
    "length = len(my_list)\n",
    "print(length)  \n",
    "\n"
   ]
  },
  {
   "cell_type": "markdown",
   "id": "ff31af07-4c98-4ce7-bec4-c9e48bd0cfbb",
   "metadata": {},
   "source": [
    "# 14.max()\n",
    "Description: Returns the largest element in the list.\n"
   ]
  },
  {
   "cell_type": "code",
   "execution_count": 35,
   "id": "8af1e54a-c3f3-4175-96e9-2e1da3d0a638",
   "metadata": {},
   "outputs": [
    {
     "name": "stdout",
     "output_type": "stream",
     "text": [
      "4\n"
     ]
    }
   ],
   "source": [
    "my_list = [1, 2, 3, 4]\n",
    "maximum = max(my_list)\n",
    "print(maximum) "
   ]
  },
  {
   "cell_type": "markdown",
   "id": "eeee77fb-f740-43a9-9557-559a76630bdd",
   "metadata": {},
   "source": [
    "# 15.sum()\n",
    "Description: Returns the sum of all elements in the list.\n"
   ]
  },
  {
   "cell_type": "code",
   "execution_count": 37,
   "id": "9f737fdf-8034-4abe-a6b6-1b9f512cd877",
   "metadata": {},
   "outputs": [
    {
     "name": "stdout",
     "output_type": "stream",
     "text": [
      "10\n"
     ]
    }
   ],
   "source": [
    "my_list = [1, 2, 3, 4]\n",
    "total = sum(my_list)\n",
    "print(total)  "
   ]
  },
  {
   "cell_type": "markdown",
   "id": "9829a548-6958-4811-95e3-37280298425b",
   "metadata": {},
   "source": [
    "# 16 .min()\n",
    "Description: Returns the smallest element in the list."
   ]
  },
  {
   "cell_type": "code",
   "execution_count": 38,
   "id": "54be3174-1246-4020-9ac9-049e73d8bb22",
   "metadata": {},
   "outputs": [
    {
     "name": "stdout",
     "output_type": "stream",
     "text": [
      "1\n"
     ]
    }
   ],
   "source": [
    "my_list = [1, 2, 3, 4]\n",
    "minimum = min(my_list)\n",
    "print(minimum)  "
   ]
  }
 ],
 "metadata": {
  "kernelspec": {
   "display_name": "Python 3 (ipykernel)",
   "language": "python",
   "name": "python3"
  },
  "language_info": {
   "codemirror_mode": {
    "name": "ipython",
    "version": 3
   },
   "file_extension": ".py",
   "mimetype": "text/x-python",
   "name": "python",
   "nbconvert_exporter": "python",
   "pygments_lexer": "ipython3",
   "version": "3.12.4"
  }
 },
 "nbformat": 4,
 "nbformat_minor": 5
}
