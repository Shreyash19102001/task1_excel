{
 "cells": [
  {
   "cell_type": "markdown",
   "id": "a3e0fbea-3682-4d72-975e-ed8acb3f631d",
   "metadata": {},
   "source": [
    "# Task_2 \n",
    "* Give 15 different list i.e. list containing combination of different data types ex. boolean, int, str\n",
    "* Also do slicing and indexing operations"
   ]
  },
  {
   "cell_type": "markdown",
   "id": "ddf6a7e2-a0d7-47f9-9833-811a195f04e1",
   "metadata": {},
   "source": [
    "# List : \n",
    "* We create a list by placing elements inside square brackets [], separated by commas."
   ]
  },
  {
   "cell_type": "markdown",
   "id": "99387d76-caaf-424a-af7c-23b0a89c4346",
   "metadata": {},
   "source": [
    "* **Iterable** is an object which can be looped over or iterated over with the help of a for loop. Objects like lists, tuples, sets, dictionaries, strings, etc. are called iterables."
   ]
  },
  {
   "cell_type": "markdown",
   "id": "f7a4619e-4b59-47e8-a087-f14c655b7d8b",
   "metadata": {},
   "source": [
    "### List Characteristics\n",
    "##### Lists are:\n",
    "\n",
    "* Ordered - They maintain the order of elements.\n",
    "* Mutable - Items can be changed after creation.\n",
    "* Allow duplicates - They can contain duplicate values.\n",
    "  "
   ]
  },
  {
   "cell_type": "markdown",
   "id": "d942104c-2ce4-458c-b703-4496c6813b59",
   "metadata": {},
   "source": [
    "### list 1 \n",
    "* str"
   ]
  },
  {
   "cell_type": "code",
   "execution_count": 5,
   "id": "6fd3a07a-8323-42f7-aa2d-44592caa0a6f",
   "metadata": {},
   "outputs": [],
   "source": [
    "primary_colors = [\"green\", \"blue\", \"red\"]"
   ]
  },
  {
   "cell_type": "code",
   "execution_count": 6,
   "id": "5343b387-2e4b-4ad4-a759-9fa73bfdbf9c",
   "metadata": {},
   "outputs": [
    {
     "data": {
      "text/plain": [
       "['green', 'blue', 'red']"
      ]
     },
     "execution_count": 6,
     "metadata": {},
     "output_type": "execute_result"
    }
   ],
   "source": [
    "primary_colors"
   ]
  },
  {
   "cell_type": "code",
   "execution_count": 7,
   "id": "53130bb0-a23b-4584-a15e-8383829ebbad",
   "metadata": {},
   "outputs": [
    {
     "data": {
      "text/plain": [
       "'green'"
      ]
     },
     "execution_count": 7,
     "metadata": {},
     "output_type": "execute_result"
    }
   ],
   "source": [
    "primary_colors[0]   ##indexing"
   ]
  },
  {
   "cell_type": "markdown",
   "id": "6b5e3105-4013-4639-b01c-a38144c57e9b",
   "metadata": {},
   "source": [
    "### list 2 \n",
    "* str"
   ]
  },
  {
   "cell_type": "code",
   "execution_count": 9,
   "id": "829a7171-eafe-4932-a674-d00fe39bab18",
   "metadata": {},
   "outputs": [],
   "source": [
    "colors = [\"magenta\", \"crimson\", \"khakee\", \"teal\", \"pink\"]"
   ]
  },
  {
   "cell_type": "code",
   "execution_count": 10,
   "id": "38c94805-f007-4627-aa48-7aa76f4dc83f",
   "metadata": {},
   "outputs": [
    {
     "data": {
      "text/plain": [
       "['magenta', 'crimson', 'khakee', 'teal', 'pink']"
      ]
     },
     "execution_count": 10,
     "metadata": {},
     "output_type": "execute_result"
    }
   ],
   "source": [
    "colors"
   ]
  },
  {
   "cell_type": "markdown",
   "id": "c81814b2-fd80-4d14-83c2-ee8d29548637",
   "metadata": {},
   "source": [
    "#### indexing\n",
    "\n",
    "* We can access element of list with number associated with position of element called as index.\n",
    "* First element starts with zero, index of second item is 1 and so on."
   ]
  },
  {
   "cell_type": "code",
   "execution_count": 12,
   "id": "787c019f-e7fb-4ad9-8aac-e034ac968ce6",
   "metadata": {},
   "outputs": [
    {
     "data": {
      "text/plain": [
       "'e'"
      ]
     },
     "execution_count": 12,
     "metadata": {},
     "output_type": "execute_result"
    }
   ],
   "source": [
    "colors [0][3]"
   ]
  },
  {
   "cell_type": "markdown",
   "id": "0e3ad80a-a176-4430-98e7-37967c4e9311",
   "metadata": {},
   "source": [
    "##### negative indexing\n",
    "* python supports negative indexing i.e. index of last element is -1 , index of second last element is -2 and so on."
   ]
  },
  {
   "cell_type": "code",
   "execution_count": 14,
   "id": "8a316b73-1ca4-4d03-add9-5e5619d644d3",
   "metadata": {},
   "outputs": [
    {
     "data": {
      "text/plain": [
       "'pink'"
      ]
     },
     "execution_count": 14,
     "metadata": {},
     "output_type": "execute_result"
    }
   ],
   "source": [
    "colors [-1]\n",
    "## last value of list"
   ]
  },
  {
   "cell_type": "markdown",
   "id": "cfa54e4f-a75f-45bb-94e5-5b5652314a0c",
   "metadata": {},
   "source": [
    "##### Slicing of a List in Python\n",
    "* In Python, it is possible to access a section of items from the list using the slicing operator"
   ]
  },
  {
   "cell_type": "code",
   "execution_count": 16,
   "id": "074d5c3b-f1bf-4c57-9e26-50110b3fb1bb",
   "metadata": {},
   "outputs": [
    {
     "data": {
      "text/plain": [
       "['magenta', 'crimson', 'khakee', 'teal', 'pink']"
      ]
     },
     "execution_count": 16,
     "metadata": {},
     "output_type": "execute_result"
    }
   ],
   "source": [
    "colors "
   ]
  },
  {
   "cell_type": "code",
   "execution_count": 122,
   "id": "faea931e-1179-4ecd-95cc-de7bfea2306f",
   "metadata": {},
   "outputs": [
    {
     "data": {
      "text/plain": [
       "['magenta', 'crimson', 'khakee', 'teal']"
      ]
     },
     "execution_count": 122,
     "metadata": {},
     "output_type": "execute_result"
    }
   ],
   "source": [
    "## Access colors from index 0 - 3\n",
    "colors [0:4] \n"
   ]
  },
  {
   "cell_type": "code",
   "execution_count": 18,
   "id": "f635bf42-369f-4044-8d2c-17c05139153b",
   "metadata": {},
   "outputs": [
    {
     "data": {
      "text/plain": [
       "['magenta', 'crimson']"
      ]
     },
     "execution_count": 18,
     "metadata": {},
     "output_type": "execute_result"
    }
   ],
   "source": [
    "colors [0:2] "
   ]
  },
  {
   "cell_type": "markdown",
   "id": "ee653047-95fd-4b6e-9978-a2ae72ad9a2e",
   "metadata": {},
   "source": [
    "### list 3\n",
    "* list [ [L1] , [L2] ]"
   ]
  },
  {
   "cell_type": "code",
   "execution_count": 20,
   "id": "437b8187-5058-4684-8705-cee64d96a12d",
   "metadata": {},
   "outputs": [],
   "source": [
    "l1 = [primary_colors , colors]"
   ]
  },
  {
   "cell_type": "code",
   "execution_count": 21,
   "id": "4831c74f-da8a-4001-a67e-e40d20bf5c01",
   "metadata": {},
   "outputs": [
    {
     "data": {
      "text/plain": [
       "[['green', 'blue', 'red'], ['magenta', 'crimson', 'khakee', 'teal', 'pink']]"
      ]
     },
     "execution_count": 21,
     "metadata": {},
     "output_type": "execute_result"
    }
   ],
   "source": [
    "l1"
   ]
  },
  {
   "cell_type": "markdown",
   "id": "ca724a82-debd-4ff6-bf90-f220289b462e",
   "metadata": {},
   "source": [
    "#### indexing "
   ]
  },
  {
   "cell_type": "code",
   "execution_count": 23,
   "id": "a078ea4a-d4e0-43b6-b696-a7b3594918db",
   "metadata": {},
   "outputs": [
    {
     "data": {
      "text/plain": [
       "['green', 'blue', 'red']"
      ]
     },
     "execution_count": 23,
     "metadata": {},
     "output_type": "execute_result"
    }
   ],
   "source": [
    "l1 [0] "
   ]
  },
  {
   "cell_type": "code",
   "execution_count": 24,
   "id": "b49be69f-9619-4b6a-bd69-4ad62be7f47e",
   "metadata": {},
   "outputs": [
    {
     "data": {
      "text/plain": [
       "['magenta', 'crimson', 'khakee', 'teal', 'pink']"
      ]
     },
     "execution_count": 24,
     "metadata": {},
     "output_type": "execute_result"
    }
   ],
   "source": [
    "l1 [1]  ##indexing"
   ]
  },
  {
   "cell_type": "code",
   "execution_count": 25,
   "id": "173b9936-a1f1-4e01-9e04-3e4ae4db027a",
   "metadata": {},
   "outputs": [
    {
     "data": {
      "text/plain": [
       "'blue'"
      ]
     },
     "execution_count": 25,
     "metadata": {},
     "output_type": "execute_result"
    }
   ],
   "source": [
    "l1 [0][1]"
   ]
  },
  {
   "cell_type": "code",
   "execution_count": 26,
   "id": "b759a6c2-506a-4fb1-8ef3-96ee3574962b",
   "metadata": {},
   "outputs": [
    {
     "data": {
      "text/plain": [
       "['magenta', 'khakee']"
      ]
     },
     "execution_count": 26,
     "metadata": {},
     "output_type": "execute_result"
    }
   ],
   "source": [
    "l1 [1][0:3:2]"
   ]
  },
  {
   "cell_type": "code",
   "execution_count": 27,
   "id": "5ee858a6-7966-4317-9f9d-790f46c76148",
   "metadata": {},
   "outputs": [
    {
     "name": "stdout",
     "output_type": "stream",
     "text": [
      "[['green', 'blue', 'red'], ['magenta', 'crimson', 'khakee', 'teal', 'pink']]\n",
      "e\n",
      "pink\n"
     ]
    }
   ],
   "source": [
    "print (l1)\n",
    "\n",
    "print (l1 [0][2][1])\n",
    "\n",
    "print (l1 [1][4])"
   ]
  },
  {
   "cell_type": "markdown",
   "id": "d9e2da69-eb34-45cc-8b45-4ad376052f26",
   "metadata": {},
   "source": [
    "### list 4\n",
    "* int, str"
   ]
  },
  {
   "cell_type": "code",
   "execution_count": 29,
   "id": "6fb7ff44-1618-4942-8dd7-65b096643d5c",
   "metadata": {},
   "outputs": [],
   "source": [
    "alpha_numeric = [\"washing machine\", 50000, \"laptop\", 60000, \"table\", 5000, \"television\", 100000]"
   ]
  },
  {
   "cell_type": "code",
   "execution_count": 30,
   "id": "74e1860f-fcfe-41cb-a5eb-5453d3d4e427",
   "metadata": {},
   "outputs": [
    {
     "data": {
      "text/plain": [
       "['washing machine',\n",
       " 50000,\n",
       " 'laptop',\n",
       " 60000,\n",
       " 'table',\n",
       " 5000,\n",
       " 'television',\n",
       " 100000]"
      ]
     },
     "execution_count": 30,
     "metadata": {},
     "output_type": "execute_result"
    }
   ],
   "source": [
    "alpha_numeric"
   ]
  },
  {
   "cell_type": "code",
   "execution_count": 31,
   "id": "5448e886-b4a5-4d9f-be49-8d77fd2c8a1d",
   "metadata": {},
   "outputs": [
    {
     "name": "stdout",
     "output_type": "stream",
     "text": [
      "['washing machine', 50000, 'laptop', 60000, 'table', 5000, 'television', 100000]\n"
     ]
    }
   ],
   "source": [
    "print (alpha_numeric)"
   ]
  },
  {
   "cell_type": "markdown",
   "id": "cacd8077-900c-409f-92e8-21b6c787fe5c",
   "metadata": {},
   "source": [
    "#### indexing and slicing"
   ]
  },
  {
   "cell_type": "code",
   "execution_count": 33,
   "id": "316c505c-e74b-4e70-b9ca-05c12436afe0",
   "metadata": {},
   "outputs": [
    {
     "data": {
      "text/plain": [
       "['washing machine', 'laptop', 'table', 'television']"
      ]
     },
     "execution_count": 33,
     "metadata": {},
     "output_type": "execute_result"
    }
   ],
   "source": [
    "alpha_numeric [0:8:2]"
   ]
  },
  {
   "cell_type": "code",
   "execution_count": 34,
   "id": "1d19d900-8ef1-4a32-854a-32a37bb658ee",
   "metadata": {},
   "outputs": [
    {
     "data": {
      "text/plain": [
       "[50000, 60000, 5000, 100000]"
      ]
     },
     "execution_count": 34,
     "metadata": {},
     "output_type": "execute_result"
    }
   ],
   "source": [
    "alpha_numeric [1:8:2]"
   ]
  },
  {
   "cell_type": "code",
   "execution_count": 35,
   "id": "e5590142-7d53-45d5-a905-dc28f1e4e372",
   "metadata": {},
   "outputs": [
    {
     "data": {
      "text/plain": [
       "['washing machine', 'laptop', 'table', 'television']"
      ]
     },
     "execution_count": 35,
     "metadata": {},
     "output_type": "execute_result"
    }
   ],
   "source": [
    "alpha_numeric [-8:8:2]"
   ]
  },
  {
   "cell_type": "code",
   "execution_count": 36,
   "id": "d5afd990-d200-42f8-a235-76d19da5c1fb",
   "metadata": {},
   "outputs": [
    {
     "name": "stdout",
     "output_type": "stream",
     "text": [
      "['washing machine', 'laptop', 'table', 'television']\n",
      "['laptop']\n"
     ]
    }
   ],
   "source": [
    "print(alpha_numeric [0:8:2])\n",
    "print(alpha_numeric [0:8:2] [1:3:2])"
   ]
  },
  {
   "cell_type": "markdown",
   "id": "7264a2ef-a57d-4fed-bd81-e1b2e0b090fa",
   "metadata": {},
   "source": [
    "### list 5\n",
    "* str ,  int , boolean "
   ]
  },
  {
   "cell_type": "code",
   "execution_count": 38,
   "id": "99c96c28-87e3-4a14-a19a-c497ee18d5c1",
   "metadata": {},
   "outputs": [],
   "source": [
    "l5 = [\"Ram\" , 28, \"Male\", True, \"Tony\", 50, \"Male\", True, \"Alice\", 25, \"Male\", False ]"
   ]
  },
  {
   "cell_type": "code",
   "execution_count": 39,
   "id": "328730bf-dba4-414d-8598-4bcfd5707516",
   "metadata": {},
   "outputs": [
    {
     "data": {
      "text/plain": [
       "['Ram', 28, 'Male', True, 'Tony', 50, 'Male', True, 'Alice', 25, 'Male', False]"
      ]
     },
     "execution_count": 39,
     "metadata": {},
     "output_type": "execute_result"
    }
   ],
   "source": [
    "l5"
   ]
  },
  {
   "cell_type": "code",
   "execution_count": 40,
   "id": "f373d577-9e01-4fbb-b6f7-ebf8aebda4ae",
   "metadata": {},
   "outputs": [
    {
     "data": {
      "text/plain": [
       "'a'"
      ]
     },
     "execution_count": 40,
     "metadata": {},
     "output_type": "execute_result"
    }
   ],
   "source": [
    "l5 [0][1]"
   ]
  },
  {
   "cell_type": "code",
   "execution_count": 41,
   "id": "a3057831-43ba-434c-9936-851c0c521ffb",
   "metadata": {},
   "outputs": [
    {
     "name": "stdout",
     "output_type": "stream",
     "text": [
      "['Ram', 28, 'Male', True, 'Tony', 50, 'Male', True, 'Alice', 25, 'Male', False]\n",
      "True\n",
      "['Ram', 'Male', 'Tony', 'Male', 'Alice', 'Male']\n",
      "Alice\n"
     ]
    }
   ],
   "source": [
    "print(l5 [0:13])\n",
    "print(l5 [0:13][3])\n",
    "print(l5 [0:13:2])\n",
    "print(l5 [0:13:2][4]) ## here indexing starts with 0 again therefoore output is alice"
   ]
  },
  {
   "cell_type": "markdown",
   "id": "201240a7-1137-452f-ade7-c49c0fee2ae8",
   "metadata": {},
   "source": [
    "### list 6\n",
    "* list = [[int],[str] ,[floats], [ [] , [] ]]"
   ]
  },
  {
   "cell_type": "code",
   "execution_count": 43,
   "id": "0111c5bc-5ae3-4070-acac-00683a858467",
   "metadata": {},
   "outputs": [],
   "source": [
    "l6 = [[1000, 500, 550, 750, 600] , [\"classA\", \"classB\", \"classC\", \"classD\", \"classE\"], \n",
    "      [90.50, 81.56, 82.3, 99.99, 65], [[\"A\",\"B\",\"B\",\"A\",\"D\"],[\"Mr. Stark\", \"Mr. Wayne\",\"Mr. Kent\", \"Mr. Arthur\", \"Mr. Banner\"]]]"
   ]
  },
  {
   "cell_type": "code",
   "execution_count": 44,
   "id": "b3dd0437-8210-4bbf-a510-d545ec751681",
   "metadata": {},
   "outputs": [
    {
     "data": {
      "text/plain": [
       "[[1000, 500, 550, 750, 600],\n",
       " ['classA', 'classB', 'classC', 'classD', 'classE'],\n",
       " [90.5, 81.56, 82.3, 99.99, 65],\n",
       " [['A', 'B', 'B', 'A', 'D'],\n",
       "  ['Mr. Stark', 'Mr. Wayne', 'Mr. Kent', 'Mr. Arthur', 'Mr. Banner']]]"
      ]
     },
     "execution_count": 44,
     "metadata": {},
     "output_type": "execute_result"
    }
   ],
   "source": [
    "l6"
   ]
  },
  {
   "cell_type": "code",
   "execution_count": 45,
   "id": "8255f64f-dfbf-4e83-bc96-9710de421b1b",
   "metadata": {},
   "outputs": [
    {
     "name": "stdout",
     "output_type": "stream",
     "text": [
      "[1000, 500, 550, 750, 600]\n",
      "['classA', 'classB', 'classC', 'classD', 'classE']\n",
      "[90.5, 81.56, 82.3, 99.99, 65]\n",
      "['A', 'B', 'B', 'A', 'D']\n",
      "['Mr. Stark', 'Mr. Wayne', 'Mr. Kent', 'Mr. Arthur', 'Mr. Banner']\n"
     ]
    }
   ],
   "source": [
    "print(l6[0])\n",
    "print(l6[1])\n",
    "print(l6[2])\n",
    "print(l6[3][0])\n",
    "print(l6[3][1])"
   ]
  },
  {
   "cell_type": "code",
   "execution_count": 46,
   "id": "920ee756-d52c-42b0-8060-bfb66588efe0",
   "metadata": {},
   "outputs": [
    {
     "name": "stdout",
     "output_type": "stream",
     "text": [
      "99.99\n"
     ]
    }
   ],
   "source": [
    "print(l6[2][3])"
   ]
  },
  {
   "cell_type": "code",
   "execution_count": 47,
   "id": "6232bb68-d644-43e7-aff9-bdf98da20f1b",
   "metadata": {},
   "outputs": [
    {
     "name": "stdout",
     "output_type": "stream",
     "text": [
      "Mr. Arthur\n"
     ]
    }
   ],
   "source": [
    "print(l6[3][1][3])"
   ]
  },
  {
   "cell_type": "markdown",
   "id": "3f637748-2994-4f94-a34f-67a2308c1d79",
   "metadata": {},
   "source": [
    "### list 7"
   ]
  },
  {
   "cell_type": "code",
   "execution_count": 49,
   "id": "80823037-c6b0-4754-9eae-892a030f819f",
   "metadata": {},
   "outputs": [],
   "source": [
    "a = 100\n",
    "b = 500\n",
    "list_ab = [ a==b , a<b, a>b]"
   ]
  },
  {
   "cell_type": "code",
   "execution_count": 50,
   "id": "e94c6de2-cce1-420c-bab5-1bb6789878ac",
   "metadata": {},
   "outputs": [
    {
     "data": {
      "text/plain": [
       "[False, True, False]"
      ]
     },
     "execution_count": 50,
     "metadata": {},
     "output_type": "execute_result"
    }
   ],
   "source": [
    "list_ab"
   ]
  },
  {
   "cell_type": "markdown",
   "id": "6376ddbc-4948-4694-8d0b-7c13d43b3547",
   "metadata": {},
   "source": [
    "### list 8\n",
    "#### list of even number"
   ]
  },
  {
   "cell_type": "code",
   "execution_count": 52,
   "id": "73c86450-7ec8-4367-937c-a8d8f1b55345",
   "metadata": {},
   "outputs": [],
   "source": [
    "l8 = [x for x in range (40) if x % 2 == 0]"
   ]
  },
  {
   "cell_type": "code",
   "execution_count": 53,
   "id": "d4219b55-ceed-44b9-8e5a-e0c994456ea6",
   "metadata": {},
   "outputs": [
    {
     "name": "stdout",
     "output_type": "stream",
     "text": [
      "[0, 2, 4, 6, 8, 10, 12, 14, 16, 18, 20, 22, 24, 26, 28, 30, 32, 34, 36, 38]\n"
     ]
    }
   ],
   "source": [
    "print(l8)"
   ]
  },
  {
   "cell_type": "markdown",
   "id": "7772032a-3d80-453a-a53c-9dfc1c5d0287",
   "metadata": {},
   "source": [
    "### list 9 \n",
    "#### list of odd no."
   ]
  },
  {
   "cell_type": "code",
   "execution_count": 55,
   "id": "05912aea-fef4-49f6-9d86-245adb88ae47",
   "metadata": {},
   "outputs": [],
   "source": [
    "l9 = [x for x in range (40) if x % 2 != 0]"
   ]
  },
  {
   "cell_type": "code",
   "execution_count": 56,
   "id": "9bbf55d8-b0c5-4444-ae67-379329f96183",
   "metadata": {},
   "outputs": [
    {
     "name": "stdout",
     "output_type": "stream",
     "text": [
      "[1, 3, 5, 7, 9, 11, 13, 15, 17, 19, 21, 23, 25, 27, 29, 31, 33, 35, 37, 39]\n"
     ]
    }
   ],
   "source": [
    "print(l9)"
   ]
  },
  {
   "cell_type": "markdown",
   "id": "7b6bdd4c-415c-4150-b0b0-2bb369518699",
   "metadata": {},
   "source": [
    "### list 10"
   ]
  },
  {
   "cell_type": "code",
   "execution_count": 58,
   "id": "c1d79b3f-aebc-4e99-9d7f-93aef7937425",
   "metadata": {},
   "outputs": [],
   "source": [
    "l10 = [[x for x in range (10) if x % 2 == 0],[x for x in range (10) if x % 2 != 0]]"
   ]
  },
  {
   "cell_type": "code",
   "execution_count": 59,
   "id": "0e1f11a0-11b4-4f63-8e4c-26181ed6bc65",
   "metadata": {},
   "outputs": [
    {
     "name": "stdout",
     "output_type": "stream",
     "text": [
      "[[0, 2, 4, 6, 8], [1, 3, 5, 7, 9]]\n"
     ]
    }
   ],
   "source": [
    "print(l10)"
   ]
  },
  {
   "cell_type": "markdown",
   "id": "465ca8c1-ffa7-4ed5-9318-1859fc86d3b5",
   "metadata": {},
   "source": [
    "### list 11"
   ]
  },
  {
   "cell_type": "code",
   "execution_count": 61,
   "id": "5c890c74-f779-481f-9b59-ba1cb23bd644",
   "metadata": {},
   "outputs": [
    {
     "name": "stdout",
     "output_type": "stream",
     "text": [
      "[[0, 1], [0, 1], [0, 1]]\n"
     ]
    }
   ],
   "source": [
    "l11 = []\n",
    "for i in range (3):\n",
    "    l11.append([])\n",
    "    for j in range (2):\n",
    "       l11[i].append(j)\n",
    "print(l11)"
   ]
  },
  {
   "cell_type": "markdown",
   "id": "cce3703e-77ec-49e1-954d-f7046ac843df",
   "metadata": {},
   "source": [
    "### list 12"
   ]
  },
  {
   "cell_type": "code",
   "execution_count": 63,
   "id": "cf239430-900d-4255-811e-6cd16679e70d",
   "metadata": {},
   "outputs": [
    {
     "name": "stdout",
     "output_type": "stream",
     "text": [
      "[[0, 1, 2, 3], [0, 1, 2, 3], [0, 1, 2, 3]]\n"
     ]
    }
   ],
   "source": [
    "l12 = []\n",
    "for i in range(3):\n",
    "    l12.append([])\n",
    "    for j in range(4):\n",
    "     l12[i].append(j)\n",
    "print(l12)"
   ]
  },
  {
   "cell_type": "markdown",
   "id": "2de2d93c-1915-430e-877b-1f3d8b0102f0",
   "metadata": {},
   "source": [
    "### list 13"
   ]
  },
  {
   "cell_type": "code",
   "execution_count": 65,
   "id": "1928e703-97c2-4a69-9088-49f07806086d",
   "metadata": {},
   "outputs": [
    {
     "name": "stdout",
     "output_type": "stream",
     "text": [
      "['a', 'b', 'c', 'd', 'e', 'f', 'g', 'h', 'i', 'j', 'k', 'l', 'm', 'n', 'o', 'p', 'q', 'r', 's', 't', 'u', 'v', 'w', 'x', 'y', 'z']\n"
     ]
    }
   ],
   "source": [
    "alpha = []\n",
    "for x in range (ord('a'),ord('z')+1):\n",
    "    alpha.append(chr(x))\n",
    "print(alpha)"
   ]
  },
  {
   "cell_type": "markdown",
   "id": "a5b3fae9-7c32-4429-9ed1-6bf34c45be75",
   "metadata": {},
   "source": [
    "### list 14"
   ]
  },
  {
   "cell_type": "code",
   "execution_count": 67,
   "id": "ea7c2dfe-0931-4600-ade0-96ef884e4047",
   "metadata": {},
   "outputs": [
    {
     "name": "stdout",
     "output_type": "stream",
     "text": [
      "['a', 'b', 'c', 'd', 'e', 'f', 'g', 'h']\n"
     ]
    }
   ],
   "source": [
    "alpha = []\n",
    "for x in range (ord('a'),ord('h')+1):\n",
    "    alpha.append(chr(x))\n",
    "print(alpha)"
   ]
  },
  {
   "cell_type": "markdown",
   "id": "97b3165c-c7f5-41f5-9f54-f94ca9901133",
   "metadata": {},
   "source": [
    "### list 15"
   ]
  },
  {
   "cell_type": "code",
   "execution_count": 69,
   "id": "059030b2-3c52-41f6-a55e-167b17db1a30",
   "metadata": {},
   "outputs": [
    {
     "name": "stdout",
     "output_type": "stream",
     "text": [
      "abcdefghijklmnopqrstuvwxyz\n"
     ]
    }
   ],
   "source": [
    "import string\n",
    "alp_lowercase = string.ascii_lowercase\n",
    "print(alp_lowercase)"
   ]
  },
  {
   "cell_type": "code",
   "execution_count": 70,
   "id": "61dccbd7-3726-4c66-b59d-a54a504c3f51",
   "metadata": {},
   "outputs": [
    {
     "name": "stdout",
     "output_type": "stream",
     "text": [
      "ABCDEFGHIJKLMNOPQRSTUVWXYZ\n"
     ]
    }
   ],
   "source": [
    "alp_upper = string.ascii_uppercase\n",
    "print(alp_upper)"
   ]
  }
 ],
 "metadata": {
  "kernelspec": {
   "display_name": "Python 3 (ipykernel)",
   "language": "python",
   "name": "python3"
  },
  "language_info": {
   "codemirror_mode": {
    "name": "ipython",
    "version": 3
   },
   "file_extension": ".py",
   "mimetype": "text/x-python",
   "name": "python",
   "nbconvert_exporter": "python",
   "pygments_lexer": "ipython3",
   "version": "3.12.4"
  }
 },
 "nbformat": 4,
 "nbformat_minor": 5
}
